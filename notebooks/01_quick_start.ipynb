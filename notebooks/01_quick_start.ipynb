{
 "cells": [
  {
   "cell_type": "markdown",
   "metadata": {},
   "source": [
    "# ML-Fragment-Optimizer Quick Start\n",
    "\n",
    "This notebook demonstrates basic usage of ML-Fragment-Optimizer for ADMET property prediction."
   ]
  },
  {
   "cell_type": "code",
   "execution_count": null,
   "metadata": {},
   "outputs": [],
   "source": [
    "# Import required modules\n",
    "import sys\n",
    "from pathlib import Path\n",
    "sys.path.insert(0, str(Path('..') / 'src'))\n",
    "\n",
    "import pandas as pd\n",
    "import numpy as np\n",
    "from ml_fragment_optimizer import ADMETPredictor, MolecularFeaturizer\n",
    "from ml_fragment_optimizer.utils.featurizers import calculate_basic_properties"
   ]
  },
  {
   "cell_type": "markdown",
   "metadata": {},
   "source": [
    "## 1. Molecular Featurization"
   ]
  },
  {
   "cell_type": "code",
   "execution_count": null,
   "metadata": {},
   "outputs": [],
   "source": [
    "# Create featurizer\n",
    "featurizer = MolecularFeaturizer(\n",
    "    fingerprint_type=\"morgan\",\n",
    "    radius=2,\n",
    "    n_bits=2048\n",
    ")\n",
    "\n",
    "# Example molecules\n",
    "smiles = [\"CCO\", \"c1ccccc1\", \"CC(C)C\"]\n",
    "\n",
    "# Featurize\n",
    "features = featurizer.featurize(smiles)\n",
    "print(f\"Feature matrix shape: {features.shape}\")\n",
    "\n",
    "# Calculate basic properties\n",
    "for smi in smiles:\n",
    "    props = calculate_basic_properties(smi)\n",
    "    print(f\"\\n{smi}:\")\n",
    "    for key, value in props.items():\n",
    "        print(f\"  {key}: {value:.2f}\")"
   ]
  },
  {
   "cell_type": "markdown",
   "metadata": {},
   "source": [
    "## 2. Training an ADMET Model"
   ]
  },
  {
   "cell_type": "code",
   "execution_count": null,
   "metadata": {},
   "outputs": [],
   "source": [
    "# Create synthetic training data\n",
    "train_smiles = [\n",
    "    \"CCO\", \"c1ccccc1\", \"CC(C)C\", \"CCCC\", \"CCC(C)C\",\n",
    "    \"c1ccc(O)cc1\", \"CCN\", \"CCCO\", \"c1cccnc1\", \"CC(=O)O\"\n",
    "]\n",
    "\n",
    "train_properties = {\n",
    "    \"solubility\": np.random.randn(10) * 2 - 1,\n",
    "    \"logp\": np.random.randn(10) * 1.5 + 2\n",
    "}\n",
    "\n",
    "# Initialize predictor\n",
    "predictor = ADMETPredictor(\n",
    "    properties=[\"solubility\", \"logp\"],\n",
    "    model_type=\"random_forest\",\n",
    "    n_estimators=50\n",
    ")\n",
    "\n",
    "# Train\n",
    "metrics = predictor.fit(\n",
    "    smiles=train_smiles,\n",
    "    properties_dict=train_properties,\n",
    "    validation_split=0.2\n",
    ")\n",
    "\n",
    "print(\"\\nValidation metrics:\")\n",
    "for prop, metric_dict in metrics.items():\n",
    "    print(f\"\\n{prop}:\")\n",
    "    for metric_name, value in metric_dict.items():\n",
    "        print(f\"  {metric_name}: {value:.3f}\")"
   ]
  },
  {
   "cell_type": "markdown",
   "metadata": {},
   "source": [
    "## 3. Making Predictions"
   ]
  },
  {
   "cell_type": "code",
   "execution_count": null,
   "metadata": {},
   "outputs": [],
   "source": [
    "# Test molecules\n",
    "test_smiles = [\"CCCCO\", \"c1ccc(N)cc1\", \"CC(C)CO\"]\n",
    "\n",
    "# Predict\n",
    "predictions = predictor.predict(test_smiles)\n",
    "\n",
    "# Display results\n",
    "results_df = pd.DataFrame({\n",
    "    \"SMILES\": test_smiles,\n",
    "    \"solubility\": predictions[\"solubility\"],\n",
    "    \"logp\": predictions[\"logp\"]\n",
    "})\n",
    "\n",
    "print(\"\\nPredictions:\")\n",
    "print(results_df)"
   ]
  },
  {
   "cell_type": "markdown",
   "metadata": {},
   "source": [
    "## 4. Uncertainty Estimation"
   ]
  },
  {
   "cell_type": "code",
   "execution_count": null,
   "metadata": {},
   "outputs": [],
   "source": [
    "# Predict with uncertainty\n",
    "predictions, uncertainties = predictor.predict(\n",
    "    test_smiles,\n",
    "    return_uncertainty=True\n",
    ")\n",
    "\n",
    "# Display with uncertainties\n",
    "results_with_unc = pd.DataFrame({\n",
    "    \"SMILES\": test_smiles,\n",
    "    \"solubility\": predictions[\"solubility\"],\n",
    "    \"solubility_unc\": uncertainties[\"solubility\"],\n",
    "    \"logp\": predictions[\"logp\"],\n",
    "    \"logp_unc\": uncertainties[\"logp\"]\n",
    "})\n",
    "\n",
    "print(\"\\nPredictions with uncertainties:\")\n",
    "print(results_with_unc)"
   ]
  },
  {
   "cell_type": "markdown",
   "metadata": {},
   "source": [
    "## 5. Save and Load Model"
   ]
  },
  {
   "cell_type": "code",
   "execution_count": null,
   "metadata": {},
   "outputs": [],
   "source": [
    "# Save model\n",
    "model_path = Path(\"../models/example_model.pkl\")\n",
    "model_path.parent.mkdir(parents=True, exist_ok=True)\n",
    "predictor.save(model_path)\n",
    "print(f\"Model saved to {model_path}\")\n",
    "\n",
    "# Load model\n",
    "loaded_predictor = ADMETPredictor.load(model_path)\n",
    "print(f\"Model loaded from {model_path}\")\n",
    "\n",
    "# Verify predictions match\n",
    "new_predictions = loaded_predictor.predict([\"CCO\"])\n",
    "print(f\"\\nTest prediction: {new_predictions}\")"
   ]
  }
 ],
 "metadata": {
  "kernelspec": {
   "display_name": "Python 3",
   "language": "python",
   "name": "python3"
  },
  "language_info": {
   "codemirror_mode": {
    "name": "ipython",
    "version": 3
   },
   "file_extension": ".py",
   "mimetype": "text/x-python",
   "name": "python",
   "nbconvert_exporter": "python",
   "pygments_lexer": "ipython3",
   "version": "3.10.0"
  }
 },
 "nbformat": 4,
 "nbformat_minor": 4
}
